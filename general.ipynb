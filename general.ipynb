{
 "cells": [
  {
   "attachments": {},
   "cell_type": "markdown",
   "metadata": {},
   "source": [
    "# DM 2023 assignment 1 -- Customers Classification\n",
    "- Jakub Niedziela\n",
    "- s0224740"
   ]
  },
  {
   "attachments": {},
   "cell_type": "markdown",
   "metadata": {},
   "source": [
    "## Notes\n",
    "While discussing the problem with your contacts at marketing, you learn the following\n",
    "observations:\n",
    "- People with higher incomes (more than 50K) are more likely to react positively to\n",
    "the special promotion; 10% of them is likely to accept the offer, whereas only 5% of\n",
    "the lower income people reacts positively.\n",
    "- The average return of a new customer highly depends on his or her income. Higher\n",
    "income people tend to generate more revenue; on average the profit for a high-\n",
    "income client is 980 Euro. Low income clients on the other hand, cost money on\n",
    "average; a low income customer will cost you on average 310 Euro.\n",
    "- The cost of producing and mailing the promotional package is 10 Euro."
   ]
  },
  {
   "attachments": {},
   "cell_type": "markdown",
   "metadata": {},
   "source": [
    "### Revenue maximization\n",
    "\n",
    "We can see in section below, that because customers with income over 50K generate 980 Euro profit, and customers with income less than 50K generate 310 Euro loss, the best possible scenario is sending the promotional package only to people with incomes over 50K Euro. Thanks to this we know, that the goal of prediction is to predict the >50K class with high cerainty."
   ]
  },
  {
   "cell_type": "code",
   "execution_count": 186,
   "metadata": {},
   "outputs": [],
   "source": [
    "def revenue_calculator(n_high, n_low):\n",
    "    return n_high * 980 - n_low * 310 - (n_low + n_high) * 10"
   ]
  },
  {
   "cell_type": "code",
   "execution_count": 187,
   "metadata": {},
   "outputs": [
    {
     "data": {
      "image/png": "[encoded data removed]",
      "text/plain": [
       "<Figure size 640x480 with 2 Axes>"
      ]
     },
     "metadata": {},
     "output_type": "display_data"
    }
   ],
   "source": [
    "import matplotlib.pyplot as plt\n",
    "import numpy as np\n",
    "\n",
    "high = np.arange(0, 10001)\n",
    "low = np.arange(0, 10001)\n",
    "\n",
    "B, D = np.meshgrid(high, low)\n",
    "revenue = revenue_calculator(B, D)\n",
    "\n",
    "plt.contourf(B, D, revenue)\n",
    "plt.colorbar()\n",
    "plt.xlabel('Number of >50K')\n",
    "plt.ylabel('Number of <=50K')\n",
    "plt.show()"
   ]
  },
  {
   "attachments": {},
   "cell_type": "markdown",
   "metadata": {},
   "source": [
    "## Goal\n",
    "\n",
    "Solve this problem (provide the liust of people to send the promotion to) and give an\n",
    "estimate of the profit you expect when sending the promotion to the people you selected.\n",
    "The goal is to maximize revenue."
   ]
  },
  {
   "attachments": {},
   "cell_type": "markdown",
   "metadata": {},
   "source": [
    "## Data\n",
    "Recently the company bought demographic information that was obtained the data\n",
    "through a survey. Unfortunately, the data does not contain the income of people.\n",
    "Only for those people that are already clients of our company, the income is available.\n",
    "As a result you get the following two datasets: <b>potential-customers.xlsx</b> contains\n",
    "the demographic information of all people that are not yet clients, while <b>existing-\n",
    "customers.xlsx</b> contains the demographic information and whether or not the\n",
    "income of the person exceeds 50K for all clients of the company."
   ]
  },
  {
   "attachments": {},
   "cell_type": "markdown",
   "metadata": {},
   "source": [
    "## Codes"
   ]
  },
  {
   "attachments": {},
   "cell_type": "markdown",
   "metadata": {},
   "source": [
    "### 1. Load Data"
   ]
  },
  {
   "cell_type": "code",
   "execution_count": 9,
   "metadata": {},
   "outputs": [],
   "source": [
    "import pandas as pd"
   ]
  },
  {
   "cell_type": "code",
   "execution_count": 10,
   "metadata": {},
   "outputs": [
    {
     "name": "stderr",
     "output_type": "stream",
     "text": [
      "/Users/jniedziela/.pyenv/versions/3.10.0/envs/DM/lib/python3.10/site-packages/openpyxl/styles/stylesheet.py:226: UserWarning: Workbook contains no default style, apply openpyxl's default\n",
      "  warn(\"Workbook contains no default style, apply openpyxl's default\")\n"
     ]
    }
   ],
   "source": [
    "raw_cust = pd.read_excel('data/existing-customers.xlsx')"
   ]
  },
  {
   "attachments": {},
   "cell_type": "markdown",
   "metadata": {},
   "source": [
    "### 2. Discover Data"
   ]
  },
  {
   "cell_type": "code",
   "execution_count": 191,
   "metadata": {},
   "outputs": [],
   "source": [
    "from ydata_profiling import ProfileReport  # pandas profiling"
   ]
  },
  {
   "cell_type": "code",
   "execution_count": 192,
   "metadata": {},
   "outputs": [],
   "source": [
    "profile = ProfileReport(raw_cust, title=\"Profiling Report\")"
   ]
  },
  {
   "cell_type": "code",
   "execution_count": 193,
   "metadata": {},
   "outputs": [
    {
     "data": {
      "application/vnd.jupyter.widget-view+json": {
       "model_id": "156e473c36ea4be2ad54dd26bd61d07c",
       "version_major": 2,
       "version_minor": 0
      },
      "text/plain": [
       "Summarize dataset:   0%|          | 0/5 [00:00<?, ?it/s]"
      ]
     },
     "metadata": {},
     "output_type": "display_data"
    },
    {
     "data": {
      "application/vnd.jupyter.widget-view+json": {
       "model_id": "1d998af459e44205b05841168fe64605",
       "version_major": 2,
       "version_minor": 0
      },
      "text/plain": [
       "Generate report structure:   0%|          | 0/1 [00:00<?, ?it/s]"
      ]
     },
     "metadata": {},
     "output_type": "display_data"
    },
    {
     "data": {
      "application/vnd.jupyter.widget-view+json": {
       "model_id": "2c7c888a25a04a489e51a7216d2b8dc0",
       "version_major": 2,
       "version_minor": 0
      },
      "text/plain": [
       "Render HTML:   0%|          | 0/1 [00:00<?, ?it/s]"
      ]
     },
     "metadata": {},
     "output_type": "display_data"
    },
    {
     "data": {
      "application/vnd.jupyter.widget-view+json": {
       "model_id": "cc0310319e3a4073a22f5c4f196e3261",
       "version_major": 2,
       "version_minor": 0
      },
      "text/plain": [
       "Export report to file:   0%|          | 0/1 [00:00<?, ?it/s]"
      ]
     },
     "metadata": {},
     "output_type": "display_data"
    }
   ],
   "source": [
    "profile.to_file(\"your_report.html\")\n"
   ]
  },
  {
   "attachments": {},
   "cell_type": "markdown",
   "metadata": {},
   "source": [
    "#### Notes based on report\n",
    "- high correlation between education and education-num\n",
    "- high correlation between sex and relationship\n",
    "- high imbalance in workclass -> 70% in private sector\n",
    "- high imbalance in race -> 85% white ppl\n",
    "- high imbalance in native country -> 90% from US\n",
    "- 5.6% missing values in workclass\n",
    "- 5.7% missing values in occupation\n",
    "- 1.8% missing values in native country\n",
    "- capital gain / loss cols have large amounts of 0's (both above 90%)\n",
    "\n",
    "#### Possile actions\n",
    "1. Remove education col --> correlation = 1.0 with education-num\n",
    "2. What to do with sex vs relationship corr (0.65)\n",
    "3. Remove race\n",
    "4. Remove Native Country \n",
    "5. How to replace missing vals in workclass --> maybe based on occupation, or just remove workclass and get occupation"
   ]
  },
  {
   "attachments": {},
   "cell_type": "markdown",
   "metadata": {},
   "source": [
    "#### 3.2 Missing values\n",
    "Imputation of missing values is critical for good model performance. There are many possibilities to do this step - missing values can be replaced with column mean, mode or using even more advanced methods. Other possiblity is also to remove all the rows with missing data. Here I will try different approaches  to get the best possible score in the end.\n",
    "##### 3.2.1. drop all\n",
    " - We can see that missing values account for about 7% of training data. On one hand removing all of them might lead to less model training and less accurate results, however this way the data will not be poisoned by possibly false information, therefore making model more robust."
   ]
  }
 ],
 "metadata": {
  "kernelspec": {
   "display_name": "DM",
   "language": "python",
   "name": "python3"
  },
  "language_info": {
   "codemirror_mode": {
    "name": "ipython",
    "version": 3
   },
   "file_extension": ".py",
   "mimetype": "text/x-python",
   "name": "python",
   "nbconvert_exporter": "python",
   "pygments_lexer": "ipython3",
   "version": "3.10.0"
  },
  "orig_nbformat": 4
 },
 "nbformat": 4,
 "nbformat_minor": 2
}
